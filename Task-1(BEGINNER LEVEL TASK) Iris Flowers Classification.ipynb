{
 "cells": [
  {
   "cell_type": "markdown",
   "id": "14b4faab",
   "metadata": {},
   "source": [
    "# V Rishikesh"
   ]
  },
  {
   "cell_type": "markdown",
   "id": "04a27123",
   "metadata": {},
   "source": [
    "# Task-1 Beginner Level Task"
   ]
  },
  {
   "cell_type": "markdown",
   "id": "fe37aef8",
   "metadata": {},
   "source": [
    "# Iris Flowers Classification"
   ]
  },
  {
   "cell_type": "markdown",
   "id": "538d6e93",
   "metadata": {},
   "source": [
    "# Let's Grow More"
   ]
  },
  {
   "cell_type": "raw",
   "id": "7bdab5cf",
   "metadata": {},
   "source": [
    "Using pandas(Pandas is a Python library used for working with data sets.) to import data set"
   ]
  },
  {
   "cell_type": "code",
   "execution_count": 1,
   "id": "182dc42d",
   "metadata": {},
   "outputs": [],
   "source": [
    "import pandas as pd \n",
    "column = [\"sepal length in cm\" , \"sepal width in cm\" , \"petal length in cm\",\"petal width in cm\",\"class\"]"
   ]
  },
  {
   "cell_type": "raw",
   "id": "a89198c5",
   "metadata": {},
   "source": [
    "read_csv is an important pandas function to read csv files and do operations on it."
   ]
  },
  {
   "cell_type": "code",
   "execution_count": 2,
   "id": "39af3d97",
   "metadata": {},
   "outputs": [
    {
     "data": {
      "text/html": [
       "<div>\n",
       "<style scoped>\n",
       "    .dataframe tbody tr th:only-of-type {\n",
       "        vertical-align: middle;\n",
       "    }\n",
       "\n",
       "    .dataframe tbody tr th {\n",
       "        vertical-align: top;\n",
       "    }\n",
       "\n",
       "    .dataframe thead th {\n",
       "        text-align: right;\n",
       "    }\n",
       "</style>\n",
       "<table border=\"1\" class=\"dataframe\">\n",
       "  <thead>\n",
       "    <tr style=\"text-align: right;\">\n",
       "      <th></th>\n",
       "      <th>sepal length in cm</th>\n",
       "      <th>sepal width in cm</th>\n",
       "      <th>petal length in cm</th>\n",
       "      <th>petal width in cm</th>\n",
       "      <th>class</th>\n",
       "    </tr>\n",
       "  </thead>\n",
       "  <tbody>\n",
       "    <tr>\n",
       "      <th>0</th>\n",
       "      <td>4.9</td>\n",
       "      <td>3.0</td>\n",
       "      <td>1.4</td>\n",
       "      <td>0.2</td>\n",
       "      <td>Iris-setosa</td>\n",
       "    </tr>\n",
       "    <tr>\n",
       "      <th>1</th>\n",
       "      <td>4.7</td>\n",
       "      <td>3.2</td>\n",
       "      <td>1.3</td>\n",
       "      <td>0.2</td>\n",
       "      <td>Iris-setosa</td>\n",
       "    </tr>\n",
       "    <tr>\n",
       "      <th>2</th>\n",
       "      <td>4.6</td>\n",
       "      <td>3.1</td>\n",
       "      <td>1.5</td>\n",
       "      <td>0.2</td>\n",
       "      <td>Iris-setosa</td>\n",
       "    </tr>\n",
       "    <tr>\n",
       "      <th>3</th>\n",
       "      <td>5.0</td>\n",
       "      <td>3.6</td>\n",
       "      <td>1.4</td>\n",
       "      <td>0.2</td>\n",
       "      <td>Iris-setosa</td>\n",
       "    </tr>\n",
       "    <tr>\n",
       "      <th>4</th>\n",
       "      <td>5.4</td>\n",
       "      <td>3.9</td>\n",
       "      <td>1.7</td>\n",
       "      <td>0.4</td>\n",
       "      <td>Iris-setosa</td>\n",
       "    </tr>\n",
       "  </tbody>\n",
       "</table>\n",
       "</div>"
      ],
      "text/plain": [
       "   sepal length in cm  sepal width in cm  petal length in cm  \\\n",
       "0                 4.9                3.0                 1.4   \n",
       "1                 4.7                3.2                 1.3   \n",
       "2                 4.6                3.1                 1.5   \n",
       "3                 5.0                3.6                 1.4   \n",
       "4                 5.4                3.9                 1.7   \n",
       "\n",
       "   petal width in cm        class  \n",
       "0                0.2  Iris-setosa  \n",
       "1                0.2  Iris-setosa  \n",
       "2                0.2  Iris-setosa  \n",
       "3                0.2  Iris-setosa  \n",
       "4                0.4  Iris-setosa  "
      ]
     },
     "execution_count": 2,
     "metadata": {},
     "output_type": "execute_result"
    }
   ],
   "source": [
    "df = pd.read_csv(\"iris_data.csv\")\n",
    "df.columns = column\n",
    "df.head()"
   ]
  },
  {
   "cell_type": "raw",
   "id": "8fb96c5f",
   "metadata": {},
   "source": [
    "The shuffle is used to shuffle matrices randomly"
   ]
  },
  {
   "cell_type": "code",
   "execution_count": 3,
   "id": "808cc8ef",
   "metadata": {},
   "outputs": [
    {
     "data": {
      "text/plain": [
       "65     Iris-versicolor\n",
       "110     Iris-virginica\n",
       "107     Iris-virginica\n",
       "70     Iris-versicolor\n",
       "1          Iris-setosa\n",
       "            ...       \n",
       "30         Iris-setosa\n",
       "14         Iris-setosa\n",
       "6          Iris-setosa\n",
       "43         Iris-setosa\n",
       "67     Iris-versicolor\n",
       "Name: class, Length: 149, dtype: object"
      ]
     },
     "execution_count": 3,
     "metadata": {},
     "output_type": "execute_result"
    }
   ],
   "source": [
    "from sklearn.utils import shuffle\n",
    "df = shuffle(df)\n",
    "df[\"class\"]"
   ]
  },
  {
   "cell_type": "raw",
   "id": "8c55f36e",
   "metadata": {},
   "source": [
    "Using Labencoder to convert all the characters to numerical format"
   ]
  },
  {
   "cell_type": "code",
   "execution_count": 4,
   "id": "b55fad72",
   "metadata": {},
   "outputs": [],
   "source": [
    "from sklearn.preprocessing import LabelEncoder\n",
    "LE = LabelEncoder()"
   ]
  },
  {
   "cell_type": "raw",
   "id": "c13b89e1",
   "metadata": {},
   "source": [
    "fit_transform() is used on the training data so that we can scale the training data and also learn the scaling parameters of that data."
   ]
  },
  {
   "cell_type": "code",
   "execution_count": 5,
   "id": "a5585aaa",
   "metadata": {},
   "outputs": [
    {
     "data": {
      "text/plain": [
       "65     1\n",
       "110    2\n",
       "107    2\n",
       "70     1\n",
       "1      0\n",
       "      ..\n",
       "30     0\n",
       "14     0\n",
       "6      0\n",
       "43     0\n",
       "67     1\n",
       "Name: class, Length: 149, dtype: int32"
      ]
     },
     "execution_count": 5,
     "metadata": {},
     "output_type": "execute_result"
    }
   ],
   "source": [
    "df[\"class\"] = LE.fit_transform(df[\"class\"])\n",
    "df[\"class\"]"
   ]
  },
  {
   "cell_type": "raw",
   "id": "75b79e8a",
   "metadata": {},
   "source": [
    "MinMaxscale is used for converting values between 0 and 1"
   ]
  },
  {
   "cell_type": "code",
   "execution_count": 6,
   "id": "3d2413bb",
   "metadata": {},
   "outputs": [],
   "source": [
    "from sklearn.preprocessing import MinMaxScaler \n",
    "scalar = MinMaxScaler()"
   ]
  },
  {
   "cell_type": "code",
   "execution_count": 7,
   "id": "b2cb08c8",
   "metadata": {},
   "outputs": [
    {
     "data": {
      "text/plain": [
       "65     1\n",
       "110    2\n",
       "107    2\n",
       "70     1\n",
       "1      0\n",
       "      ..\n",
       "30     0\n",
       "14     0\n",
       "6      0\n",
       "43     0\n",
       "67     1\n",
       "Name: class, Length: 149, dtype: int32"
      ]
     },
     "execution_count": 7,
     "metadata": {},
     "output_type": "execute_result"
    }
   ],
   "source": [
    "X = scalar.fit_transform(df.drop(\"class\",axis=1))\n",
    "y = df[\"class\"]\n",
    "y"
   ]
  },
  {
   "cell_type": "code",
   "execution_count": 8,
   "id": "97092b72",
   "metadata": {},
   "outputs": [
    {
     "data": {
      "text/plain": [
       "array([[0.58333333, 0.29166667, 0.72881356, 0.75      ],\n",
       "       [0.66666667, 0.20833333, 0.81355932, 0.70833333],\n",
       "       [0.5       , 0.33333333, 0.50847458, 0.5       ],\n",
       "       [0.11111111, 0.5       , 0.05084746, 0.04166667],\n",
       "       [0.47222222, 0.58333333, 0.59322034, 0.625     ],\n",
       "       [0.16666667, 0.20833333, 0.59322034, 0.66666667],\n",
       "       [0.91666667, 0.41666667, 0.94915254, 0.83333333],\n",
       "       [0.63888889, 0.41666667, 0.57627119, 0.54166667],\n",
       "       [0.08333333, 0.5       , 0.06779661, 0.04166667]])"
      ]
     },
     "execution_count": 8,
     "metadata": {},
     "output_type": "execute_result"
    }
   ],
   "source": [
    "X[1:10]"
   ]
  },
  {
   "cell_type": "raw",
   "id": "48be8ed3",
   "metadata": {},
   "source": [
    "train_test_split is a function in Sklearn model selection for splitting data arrays into two subsets: for training data and for testing data. With this function, you don't need to divide the dataset manually. By default, Sklearn train_test_split will make random partitions for the two subsets."
   ]
  },
  {
   "cell_type": "code",
   "execution_count": 9,
   "id": "44679ab7",
   "metadata": {},
   "outputs": [],
   "source": [
    "from sklearn.model_selection import train_test_split as tts"
   ]
  },
  {
   "cell_type": "code",
   "execution_count": 10,
   "id": "eb4eaba1",
   "metadata": {},
   "outputs": [],
   "source": [
    "X_train,X_test,y_train,y_test = tts(X,y,test_size = 0.2)"
   ]
  },
  {
   "cell_type": "code",
   "execution_count": 11,
   "id": "50d80952",
   "metadata": {},
   "outputs": [
    {
     "data": {
      "text/plain": [
       "(149,)"
      ]
     },
     "execution_count": 11,
     "metadata": {},
     "output_type": "execute_result"
    }
   ],
   "source": [
    "y.shape"
   ]
  },
  {
   "cell_type": "raw",
   "id": "bfa6c60c",
   "metadata": {},
   "source": [
    "By using LogisticRegression we predict the accuracy of our testing data"
   ]
  },
  {
   "cell_type": "code",
   "execution_count": 12,
   "id": "62bcca1d",
   "metadata": {},
   "outputs": [],
   "source": [
    "from sklearn.linear_model import LogisticRegression\n",
    "Model = LogisticRegression()"
   ]
  },
  {
   "cell_type": "code",
   "execution_count": 13,
   "id": "fdf657c8",
   "metadata": {},
   "outputs": [
    {
     "data": {
      "text/plain": [
       "array([2, 2, 2, 2, 2, 1, 2, 2, 1, 2, 0, 1, 2, 1, 1, 0, 0, 2, 0, 0, 1, 0,\n",
       "       1, 1, 1, 1, 1, 0, 0, 2])"
      ]
     },
     "execution_count": 13,
     "metadata": {},
     "output_type": "execute_result"
    }
   ],
   "source": [
    "Model.fit(X_train,y_train)\n",
    "y_predict = Model.predict(X_test)\n",
    "y_predict"
   ]
  },
  {
   "cell_type": "code",
   "execution_count": 14,
   "id": "39717722",
   "metadata": {},
   "outputs": [
    {
     "data": {
      "text/plain": [
       "0.8333333333333334"
      ]
     },
     "execution_count": 14,
     "metadata": {},
     "output_type": "execute_result"
    }
   ],
   "source": [
    "Model.score(X_test,y_test)"
   ]
  },
  {
   "cell_type": "raw",
   "id": "fa1c8a4f",
   "metadata": {},
   "source": [
    "Plotting a graph with matplotlib\n",
    "matplotlib. pyplot is a collection of functions that make matplotlib work like MATLAB"
   ]
  },
  {
   "cell_type": "code",
   "execution_count": 15,
   "id": "5ddb8c48",
   "metadata": {},
   "outputs": [],
   "source": [
    "import matplotlib.pyplot as plt \n",
    "import numpy as np"
   ]
  },
  {
   "cell_type": "code",
   "execution_count": 16,
   "id": "9db2129a",
   "metadata": {},
   "outputs": [],
   "source": [
    "splen = df[\"sepal length in cm\"]\n",
    "spwid = df[\"sepal width in cm\"]"
   ]
  },
  {
   "cell_type": "code",
   "execution_count": 17,
   "id": "8a04025b",
   "metadata": {},
   "outputs": [
    {
     "data": {
      "text/plain": [
       "Text(0.5, 1.0, 'A GRAPH BETWEEN SEPAL LENGTH AND SEPAL WIDTH')"
      ]
     },
     "execution_count": 17,
     "metadata": {},
     "output_type": "execute_result"
    },
    {
     "data": {
      "image/png": "[encoded data removed]",
      "text/plain": [
       "<Figure size 432x288 with 1 Axes>"
      ]
     },
     "metadata": {
      "needs_background": "light"
     },
     "output_type": "display_data"
    }
   ],
   "source": [
    "plt.scatter(splen,spwid,c='g')\n",
    "plt.xlabel('sepal length in cm')\n",
    "plt.ylabel('sepal width in cm')\n",
    "plt.title('A GRAPH BETWEEN SEPAL LENGTH AND SEPAL WIDTH')"
   ]
  },
  {
   "cell_type": "raw",
   "id": "10e1b2e3",
   "metadata": {},
   "source": [
    "Seaborn is a library for making statistical graphics in Python.\n",
    "With the help of seaborn we can find the correlation and heatmap"
   ]
  },
  {
   "cell_type": "code",
   "execution_count": 18,
   "id": "cd503260",
   "metadata": {},
   "outputs": [],
   "source": [
    "import seaborn as sb"
   ]
  },
  {
   "cell_type": "code",
   "execution_count": 19,
   "id": "253be1e9",
   "metadata": {},
   "outputs": [
    {
     "data": {
      "text/html": [
       "<div>\n",
       "<style scoped>\n",
       "    .dataframe tbody tr th:only-of-type {\n",
       "        vertical-align: middle;\n",
       "    }\n",
       "\n",
       "    .dataframe tbody tr th {\n",
       "        vertical-align: top;\n",
       "    }\n",
       "\n",
       "    .dataframe thead th {\n",
       "        text-align: right;\n",
       "    }\n",
       "</style>\n",
       "<table border=\"1\" class=\"dataframe\">\n",
       "  <thead>\n",
       "    <tr style=\"text-align: right;\">\n",
       "      <th></th>\n",
       "      <th>sepal length in cm</th>\n",
       "      <th>sepal width in cm</th>\n",
       "      <th>petal length in cm</th>\n",
       "      <th>petal width in cm</th>\n",
       "      <th>class</th>\n",
       "    </tr>\n",
       "  </thead>\n",
       "  <tbody>\n",
       "    <tr>\n",
       "      <th>sepal length in cm</th>\n",
       "      <td>1.000000</td>\n",
       "      <td>-0.103784</td>\n",
       "      <td>0.871283</td>\n",
       "      <td>0.816971</td>\n",
       "      <td>0.781219</td>\n",
       "    </tr>\n",
       "    <tr>\n",
       "      <th>sepal width in cm</th>\n",
       "      <td>-0.103784</td>\n",
       "      <td>1.000000</td>\n",
       "      <td>-0.415218</td>\n",
       "      <td>-0.350733</td>\n",
       "      <td>-0.414532</td>\n",
       "    </tr>\n",
       "    <tr>\n",
       "      <th>petal length in cm</th>\n",
       "      <td>0.871283</td>\n",
       "      <td>-0.415218</td>\n",
       "      <td>1.000000</td>\n",
       "      <td>0.962314</td>\n",
       "      <td>0.948519</td>\n",
       "    </tr>\n",
       "    <tr>\n",
       "      <th>petal width in cm</th>\n",
       "      <td>0.816971</td>\n",
       "      <td>-0.350733</td>\n",
       "      <td>0.962314</td>\n",
       "      <td>1.000000</td>\n",
       "      <td>0.956014</td>\n",
       "    </tr>\n",
       "    <tr>\n",
       "      <th>class</th>\n",
       "      <td>0.781219</td>\n",
       "      <td>-0.414532</td>\n",
       "      <td>0.948519</td>\n",
       "      <td>0.956014</td>\n",
       "      <td>1.000000</td>\n",
       "    </tr>\n",
       "  </tbody>\n",
       "</table>\n",
       "</div>"
      ],
      "text/plain": [
       "                    sepal length in cm  sepal width in cm  petal length in cm  \\\n",
       "sepal length in cm            1.000000          -0.103784            0.871283   \n",
       "sepal width in cm            -0.103784           1.000000           -0.415218   \n",
       "petal length in cm            0.871283          -0.415218            1.000000   \n",
       "petal width in cm             0.816971          -0.350733            0.962314   \n",
       "class                         0.781219          -0.414532            0.948519   \n",
       "\n",
       "                    petal width in cm     class  \n",
       "sepal length in cm           0.816971  0.781219  \n",
       "sepal width in cm           -0.350733 -0.414532  \n",
       "petal length in cm           0.962314  0.948519  \n",
       "petal width in cm            1.000000  0.956014  \n",
       "class                        0.956014  1.000000  "
      ]
     },
     "execution_count": 19,
     "metadata": {},
     "output_type": "execute_result"
    }
   ],
   "source": [
    "df.corr()"
   ]
  },
  {
   "cell_type": "code",
   "execution_count": 20,
   "id": "ea65729e",
   "metadata": {},
   "outputs": [
    {
     "data": {
      "text/plain": [
       "<AxesSubplot:>"
      ]
     },
     "execution_count": 20,
     "metadata": {},
     "output_type": "execute_result"
    },
    {
     "data": {
      "image/png": "[encoded data removed]",
      "text/plain": [
       "<Figure size 432x288 with 2 Axes>"
      ]
     },
     "metadata": {
      "needs_background": "light"
     },
     "output_type": "display_data"
    }
   ],
   "source": [
    "sb.heatmap(df.corr())"
   ]
  },
  {
   "cell_type": "markdown",
   "id": "41c308eb",
   "metadata": {},
   "source": [
    "# ThankYou"
   ]
  },
  {
   "cell_type": "code",
   "execution_count": null,
   "id": "b367ba84",
   "metadata": {},
   "outputs": [],
   "source": []
  }
 ],
 "metadata": {
  "kernelspec": {
   "display_name": "Python 3 (ipykernel)",
   "language": "python",
   "name": "python3"
  },
  "language_info": {
   "codemirror_mode": {
    "name": "ipython",
    "version": 3
   },
   "file_extension": ".py",
   "mimetype": "text/x-python",
   "name": "python",
   "nbconvert_exporter": "python",
   "pygments_lexer": "ipython3",
   "version": "3.9.7"
  }
 },
 "nbformat": 4,
 "nbformat_minor": 5
}
