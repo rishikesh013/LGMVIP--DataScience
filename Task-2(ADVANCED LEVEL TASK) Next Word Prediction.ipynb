{
 "cells": [
  {
   "cell_type": "markdown",
   "id": "6564b99a",
   "metadata": {},
   "source": [
    "# V Rishikesh"
   ]
  },
  {
   "cell_type": "markdown",
   "id": "bd390ba8",
   "metadata": {},
   "source": [
    "# Task-2(ADVANCED LEVEL TASK)"
   ]
  },
  {
   "cell_type": "markdown",
   "id": "ef92f806",
   "metadata": {},
   "source": [
    "# Next Word Prediction"
   ]
  },
  {
   "cell_type": "markdown",
   "id": "4e21c60c",
   "metadata": {},
   "source": [
    "Importing Libraries"
   ]
  },
  {
   "cell_type": "code",
   "execution_count": 1,
   "id": "0a022a4c",
   "metadata": {},
   "outputs": [],
   "source": [
    "import numpy as np\n",
    "from nltk.tokenize import RegexpTokenizer\n",
    "from keras.models import Sequential, load_model\n",
    "from keras.layers import LSTM\n",
    "from keras.layers.core import Dense, Activation\n",
    "from tensorflow.keras.optimizers import RMSprop\n",
    "import matplotlib.pyplot as plt\n",
    "import pickle\n",
    "import heapq"
   ]
  },
  {
   "cell_type": "markdown",
   "id": "5de95fb8",
   "metadata": {},
   "source": [
    "Loading the Dataset"
   ]
  },
  {
   "cell_type": "code",
   "execution_count": 2,
   "id": "11065bd8",
   "metadata": {},
   "outputs": [
    {
     "name": "stdout",
     "output_type": "stream",
     "text": [
      "Corpus Length: 581887\n"
     ]
    }
   ],
   "source": [
    "path = '1661-0.txt'\n",
    "text = open(path).read().lower()\n",
    "print('Corpus Length:', len(text))"
   ]
  },
  {
   "cell_type": "markdown",
   "id": "5fd689fc",
   "metadata": {},
   "source": [
    "# Splitting Dataset into one word each"
   ]
  },
  {
   "cell_type": "code",
   "execution_count": 3,
   "id": "743c2229",
   "metadata": {},
   "outputs": [],
   "source": [
    "tokenizer = RegexpTokenizer(r'\\w+')\n",
    "words = tokenizer.tokenize(text)"
   ]
  },
  {
   "cell_type": "markdown",
   "id": "cdb41b10",
   "metadata": {},
   "source": [
    "Making list of Sorted Unique Words"
   ]
  },
  {
   "cell_type": "code",
   "execution_count": 4,
   "id": "794372ba",
   "metadata": {},
   "outputs": [],
   "source": [
    "unique_words = np.unique(words)\n",
    "unique_word_index = dict((c, i) for i, c in enumerate(unique_words))"
   ]
  },
  {
   "cell_type": "markdown",
   "id": "e76f776f",
   "metadata": {},
   "source": [
    "# Feature Engineering"
   ]
  },
  {
   "cell_type": "code",
   "execution_count": 5,
   "id": "65b4e7da",
   "metadata": {},
   "outputs": [
    {
     "name": "stdout",
     "output_type": "stream",
     "text": [
      "['project', 'gutenberg', 's', 'the']\n",
      "adventures\n"
     ]
    }
   ],
   "source": [
    "WORD_LENGTH = 4\n",
    "prev_words = []\n",
    "next_words = []\n",
    "for i in range(len(words) - WORD_LENGTH):\n",
    "    prev_words.append(words[i:i + WORD_LENGTH])\n",
    "    next_words.append(words[i + WORD_LENGTH])\n",
    "print(prev_words[0])\n",
    "print(next_words[0])"
   ]
  },
  {
   "cell_type": "markdown",
   "id": "e6857853",
   "metadata": {},
   "source": [
    "Storing Features and Corresponding Labels"
   ]
  },
  {
   "cell_type": "code",
   "execution_count": 6,
   "id": "7691f722",
   "metadata": {},
   "outputs": [],
   "source": [
    "X = np.zeros((len(prev_words), WORD_LENGTH, len(unique_words)), dtype=bool)\n",
    "Y = np.zeros((len(next_words), len(unique_words)), dtype=bool)\n",
    "for i, each_words in enumerate(prev_words):\n",
    "    for j, each_word in enumerate(each_words):\n",
    "        X[i, j, unique_word_index[each_word]] = 1\n",
    "    Y[i, unique_word_index[next_words[i]]] = 1"
   ]
  },
  {
   "cell_type": "code",
   "execution_count": 7,
   "id": "f86837ec",
   "metadata": {},
   "outputs": [
    {
     "name": "stdout",
     "output_type": "stream",
     "text": [
      "[False False False ... False False False]\n"
     ]
    }
   ],
   "source": [
    "print(X[0][0])"
   ]
  },
  {
   "cell_type": "markdown",
   "id": "3b545bbf",
   "metadata": {},
   "source": [
    "# Building the Model"
   ]
  },
  {
   "cell_type": "code",
   "execution_count": 8,
   "id": "604e0f28",
   "metadata": {},
   "outputs": [],
   "source": [
    "model = Sequential()\n",
    "model.add(LSTM(128, input_shape=(WORD_LENGTH, len(unique_words))))\n",
    "model.add(Dense(len(unique_words)))\n",
    "model.add(Activation('softmax'))"
   ]
  },
  {
   "cell_type": "markdown",
   "id": "c3c075d5",
   "metadata": {},
   "source": [
    "Training Our Model"
   ]
  },
  {
   "cell_type": "code",
   "execution_count": 9,
   "id": "e95246c2",
   "metadata": {},
   "outputs": [
    {
     "name": "stdout",
     "output_type": "stream",
     "text": [
      "Epoch 1/20\n",
      "811/811 [==============================] - 147s 178ms/step - loss: 6.0084 - accuracy: 0.1081 - val_loss: 7.1220 - val_accuracy: 0.1022\n",
      "Epoch 2/20\n",
      "811/811 [==============================] - 141s 173ms/step - loss: 5.7568 - accuracy: 0.1475 - val_loss: 7.8928 - val_accuracy: 0.1075\n",
      "Epoch 3/20\n",
      "811/811 [==============================] - 135s 166ms/step - loss: 5.7435 - accuracy: 0.1767 - val_loss: 8.1226 - val_accuracy: 0.1071\n",
      "Epoch 4/20\n",
      "811/811 [==============================] - 138s 171ms/step - loss: 5.4487 - accuracy: 0.2102 - val_loss: 7.9059 - val_accuracy: 0.0998\n",
      "Epoch 5/20\n",
      "811/811 [==============================] - 273s 337ms/step - loss: 5.1534 - accuracy: 0.2505 - val_loss: 8.2882 - val_accuracy: 0.1060\n",
      "Epoch 6/20\n",
      "811/811 [==============================] - 172s 212ms/step - loss: 4.9112 - accuracy: 0.2856 - val_loss: 8.6047 - val_accuracy: 0.0974\n",
      "Epoch 7/20\n",
      "811/811 [==============================] - 143s 177ms/step - loss: 4.7177 - accuracy: 0.3230 - val_loss: 8.6567 - val_accuracy: 0.0904\n",
      "Epoch 8/20\n",
      "811/811 [==============================] - 168s 208ms/step - loss: 4.5619 - accuracy: 0.3548 - val_loss: 8.6893 - val_accuracy: 0.0862\n",
      "Epoch 9/20\n",
      "811/811 [==============================] - 153s 188ms/step - loss: 4.4133 - accuracy: 0.3860 - val_loss: 8.7891 - val_accuracy: 0.0835\n",
      "Epoch 10/20\n",
      "811/811 [==============================] - 150s 185ms/step - loss: 4.2770 - accuracy: 0.4143 - val_loss: 8.7648 - val_accuracy: 0.0822\n",
      "Epoch 11/20\n",
      "811/811 [==============================] - 161s 198ms/step - loss: 4.1774 - accuracy: 0.4392 - val_loss: 8.7378 - val_accuracy: 0.0784\n",
      "Epoch 12/20\n",
      "811/811 [==============================] - 176s 217ms/step - loss: 4.0960 - accuracy: 0.4616 - val_loss: 8.9897 - val_accuracy: 0.0760\n",
      "Epoch 13/20\n",
      "811/811 [==============================] - 159s 196ms/step - loss: 4.0059 - accuracy: 0.4809 - val_loss: 9.0015 - val_accuracy: 0.0749\n",
      "Epoch 14/20\n",
      "811/811 [==============================] - 178s 220ms/step - loss: 3.9313 - accuracy: 0.4987 - val_loss: 9.0312 - val_accuracy: 0.0743\n",
      "Epoch 15/20\n",
      "811/811 [==============================] - 178s 219ms/step - loss: 3.8669 - accuracy: 0.5151 - val_loss: 9.1124 - val_accuracy: 0.0756\n",
      "Epoch 16/20\n",
      "811/811 [==============================] - 168s 207ms/step - loss: 3.8076 - accuracy: 0.5278 - val_loss: 9.1461 - val_accuracy: 0.0723\n",
      "Epoch 17/20\n",
      "811/811 [==============================] - 182s 224ms/step - loss: 3.7567 - accuracy: 0.5395 - val_loss: 9.1659 - val_accuracy: 0.0692\n",
      "Epoch 18/20\n",
      "811/811 [==============================] - 155s 192ms/step - loss: 3.7048 - accuracy: 0.5502 - val_loss: 9.1744 - val_accuracy: 0.0672\n",
      "Epoch 19/20\n",
      "811/811 [==============================] - 152s 187ms/step - loss: 3.6615 - accuracy: 0.5608 - val_loss: 9.2445 - val_accuracy: 0.0692\n",
      "Epoch 20/20\n",
      "811/811 [==============================] - 149s 183ms/step - loss: 3.6132 - accuracy: 0.5685 - val_loss: 9.2394 - val_accuracy: 0.0710\n"
     ]
    }
   ],
   "source": [
    "optimizer = RMSprop(learning_rate=0.01)\n",
    "model.compile(loss='categorical_crossentropy', optimizer=optimizer, metrics=['accuracy'])\n",
    "history = model.fit(X, Y, validation_split=0.05, batch_size=128, epochs=20, shuffle=True).history"
   ]
  },
  {
   "cell_type": "markdown",
   "id": "63406257",
   "metadata": {},
   "source": [
    "Loading Our Model"
   ]
  },
  {
   "cell_type": "code",
   "execution_count": 10,
   "id": "27373cbb",
   "metadata": {},
   "outputs": [],
   "source": [
    "model.save('keras_next_word_model.h5')\n",
    "pickle.dump(history, open(\"history.p\", \"wb\"))\n",
    "model = load_model('keras_next_word_model.h5')\n",
    "history = pickle.load(open(\"history.p\", \"rb\"))"
   ]
  },
  {
   "cell_type": "markdown",
   "id": "549b4ec3",
   "metadata": {},
   "source": [
    "Making Predictions"
   ]
  },
  {
   "cell_type": "code",
   "execution_count": 11,
   "id": "dcdb623f",
   "metadata": {},
   "outputs": [
    {
     "name": "stdout",
     "output_type": "stream",
     "text": [
      "how\n",
      "are\n",
      "you\n"
     ]
    },
    {
     "data": {
      "text/plain": [
       "array([[[0., 0., 0., ..., 0., 0., 0.],\n",
       "        [0., 0., 0., ..., 0., 0., 0.],\n",
       "        [0., 0., 0., ..., 0., 0., 0.],\n",
       "        [0., 0., 0., ..., 0., 0., 0.]]])"
      ]
     },
     "execution_count": 11,
     "metadata": {},
     "output_type": "execute_result"
    }
   ],
   "source": [
    "def prepare_input(text):\n",
    "    x = np.zeros((1, WORD_LENGTH, len(unique_words)))\n",
    "    for t, word in enumerate(text.split()):\n",
    "        print(word)\n",
    "        x[0, t, unique_word_index[word]] = 1\n",
    "    return x\n",
    "prepare_input(\"How are you \".lower())"
   ]
  },
  {
   "cell_type": "code",
   "execution_count": 12,
   "id": "ed922271",
   "metadata": {},
   "outputs": [],
   "source": [
    "def sample(preds, top_n=3):\n",
    "    preds = np.asarray(preds).astype('float64')\n",
    "    preds = np.log(preds)\n",
    "    exp_preds = np.exp(preds)\n",
    "    preds = exp_preds / np.sum(exp_preds)\n",
    "    return heapq.nlargest(top_n, range(len(preds)), preds.take)"
   ]
  },
  {
   "cell_type": "markdown",
   "id": "d0810d4c",
   "metadata": {},
   "source": [
    "Function for Prediction"
   ]
  },
  {
   "cell_type": "code",
   "execution_count": 13,
   "id": "0e3bdc78",
   "metadata": {},
   "outputs": [],
   "source": [
    "def predict_completions(text, n=3):\n",
    "    if text == \"\":\n",
    "        return(\"0\")\n",
    "    x = prepare_input(text)\n",
    "    preds = model.predict(x, verbose=0)[0]\n",
    "    next_indices = sample(preds, n)\n",
    "    return [unique_words[idx] for idx in next_indices]"
   ]
  },
  {
   "cell_type": "code",
   "execution_count": 14,
   "id": "e8a26ed9",
   "metadata": {},
   "outputs": [
    {
     "name": "stdout",
     "output_type": "stream",
     "text": [
      "Sentence:  Will you be my partner?\n",
      "Sequence:  will you\n",
      "will\n",
      "you\n",
      "Next Possible Words:  ['me', 'said']\n"
     ]
    }
   ],
   "source": [
    "s =  \"Will you be my partner?\"\n",
    "print(\"Sentence: \",s)\n",
    "seq = \" \".join(tokenizer.tokenize(s.lower())[0:2])\n",
    "print(\"Sequence: \",seq)\n",
    "print(\"Next Possible Words: \", predict_completions(seq, 2))"
   ]
  },
  {
   "cell_type": "code",
   "execution_count": 15,
   "id": "4948bc03",
   "metadata": {},
   "outputs": [
    {
     "name": "stdout",
     "output_type": "stream",
     "text": [
      "Sentence:  This is not going anywhere.\n",
      "Sequence:  this is not going\n",
      "this\n",
      "is\n",
      "not\n",
      "going\n",
      "Next Possible Words:  ['on', 'the', 'through', 'all']\n"
     ]
    }
   ],
   "source": [
    "sen =  \"This is not going anywhere.\"\n",
    "print(\"Sentence: \",sen)\n",
    "sequ = \" \".join(tokenizer.tokenize(sen.lower())[0:4])\n",
    "print(\"Sequence: \",sequ)\n",
    "print(\"Next Possible Words: \", predict_completions(sequ, 4))"
   ]
  }
 ],
 "metadata": {
  "kernelspec": {
   "display_name": "Python 3 (ipykernel)",
   "language": "python",
   "name": "python3"
  },
  "language_info": {
   "codemirror_mode": {
    "name": "ipython",
    "version": 3
   },
   "file_extension": ".py",
   "mimetype": "text/x-python",
   "name": "python",
   "nbconvert_exporter": "python",
   "pygments_lexer": "ipython3",
   "version": "3.10.0"
  }
 },
 "nbformat": 4,
 "nbformat_minor": 5
}
